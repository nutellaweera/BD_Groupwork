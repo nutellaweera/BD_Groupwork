{
  "cells": [
    {
      "cell_type": "markdown",
      "metadata": {
        "id": "view-in-github",
        "colab_type": "text"
      },
      "source": [
        "<a href=\"https://colab.research.google.com/github/nutellaweera/BD_Groupwork/blob/main/Group6_hadoopCurrencyConversion.ipynb\" target=\"_parent\"><img src=\"https://colab.research.google.com/assets/colab-badge.svg\" alt=\"Open In Colab\"/></a>"
      ]
    },
    {
      "cell_type": "markdown",
      "metadata": {
        "id": "LlR4SaMMBIGq"
      },
      "source": [
        "Attempting to use Hadoop+PySpark for currency conversion of a large dataset. \n",
        "References: \n",
        "* Hadoop+Spark on colab - https://www.analyticsvidhya.com/blog/2021/05/integration-of-python-with-hadoop-and-spark/\n",
        "* Python currency conversion - https://medium.com/analytics-vidhya/convert-currencies-automatically-with-python-python-in-audit-2-6c574dbae44\n",
        "* PySpark with pandas - https://www.analyticsvidhya.com/blog/2020/11/a-must-read-guide-on-how-to-work-with-pyspark-on-google-colab-for-data-scientists/"
      ]
    },
    {
      "cell_type": "code",
      "execution_count": null,
      "metadata": {
        "id": "2h-p9IRT_UEE"
      },
      "outputs": [],
      "source": [
        "# Install java and setup env vars\n",
        "!apt-get install openjdk-8-jdk-headless -qq > /dev/null"
      ]
    },
    {
      "cell_type": "code",
      "execution_count": null,
      "metadata": {
        "id": "1xQj4ektA9un"
      },
      "outputs": [],
      "source": [
        "# Download and unzip spark+hadoop\n",
        "!wget -q https://downloads.apache.org/spark/spark-3.2.1/spark-3.2.1-bin-hadoop3.2.tgz\n",
        "!tar xf spark-3.2.1-bin-hadoop3.2.tgz"
      ]
    },
    {
      "cell_type": "code",
      "execution_count": null,
      "metadata": {
        "id": "v2DRu0pJCaCg"
      },
      "outputs": [],
      "source": [
        "# Initialize findspark and set java vars\n",
        "!pip install -q findspark\n",
        "\n",
        "import os\n",
        "os.environ[\"JAVA_HOME\"] = \"/usr/lib/jvm/java-8-openjdk-amd64\"\n",
        "os.environ[\"SPARK_HOME\"] = \"/content/spark-3.2.1-bin-hadoop3.2\"\n",
        "\n",
        "import findspark\n",
        "findspark.init()"
      ]
    },
    {
      "cell_type": "code",
      "execution_count": null,
      "metadata": {
        "id": "sYwdMPMQbJLa"
      },
      "outputs": [],
      "source": [
        "# Initialize a spark session\n",
        "!pip install -q pyspark\n",
        "from pyspark.sql import SparkSession\n",
        "\n",
        "spark = SparkSession.builder\\\n",
        "        .master(\"local\")\\\n",
        "        .appName(\"Colab\")\\\n",
        "        .config('spark.ui.port', '4055')\\\n",
        "        .getOrCreate()"
      ]
    },
    {
      "cell_type": "code",
      "execution_count": null,
      "metadata": {
        "id": "aonPgxttIGis"
      },
      "outputs": [],
      "source": [
        "# Read the dataset with spark\n",
        "spark_df = spark.read.csv('wfpvam_foodprices.csv', header=True, inferSchema=True)"
      ]
    },
    {
      "cell_type": "code",
      "execution_count": null,
      "metadata": {
        "id": "DCBrGhykJqrh"
      },
      "outputs": [],
      "source": [
        "# Install forex convertor python package and currency conversion\n",
        "!pip install forex_python\n",
        "from forex_python.converter import CurrencyRates"
      ]
    },
    {
      "cell_type": "code",
      "execution_count": null,
      "metadata": {
        "id": "pjO6cqUMfMrm"
      },
      "outputs": [],
      "source": [
        "# Pre-processing\n",
        "from pyspark.sql import functions as F\n",
        "\n",
        "# Add a formatted date col\n",
        "spark_df = spark_df.withColumn('formatted_date', F.expr(\"make_date(`year recorded`, `month recorded`, 01)\"))\n",
        "\n",
        "# Get a list of supported currencies from the API and drop rows with any other currency types\n",
        "c = CurrencyRates()\n",
        "supported_currencies = list(c.get_rates('USD').keys())\n",
        "spark_df = spark_df[spark_df['name of currency'].isin(supported_currencies)]"
      ]
    },
    {
      "cell_type": "code",
      "execution_count": null,
      "metadata": {
        "id": "lghGCjAMmx1z"
      },
      "outputs": [],
      "source": [
        "# Define a udf (user defined function to convert currency, filter out values with errors)\n",
        "from pyspark.sql.types import FloatType\n",
        "CONVERSION_ERROR = 9999.9999\n",
        "\n",
        "def convertCurrency(currency, price, date):\n",
        "  try:\n",
        "      amt = round(c.convert(currency, 'USD', price, date), 4)\n",
        "      return amt\n",
        "  except:\n",
        "    return CONVERSION_ERROR # to find error rows later\n",
        "\n",
        "convert_currency = F.udf(lambda currency, price, date: convertCurrency(currency, price, date), FloatType())\n",
        "spark_df = spark_df.withColumn('price_USD', convert_currency('name of currency', 'price paid', 'formatted_date'))\n",
        "\n",
        "# Filter out rows with exceptions\n",
        "spark_df = spark_df.filter(spark_df['price_USD'] != CONVERSION_ERROR)"
      ]
    },
    {
      "cell_type": "code",
      "execution_count": null,
      "metadata": {
        "colab": {
          "base_uri": "https://localhost:8080/"
        },
        "id": "01SjoAlEob3Z",
        "outputId": "b28f2c21-f14a-4667-c4ad-bb7a65d958cf"
      },
      "outputs": [
        {
          "output_type": "execute_result",
          "data": {
            "text/plain": [
              "2"
            ]
          },
          "metadata": {},
          "execution_count": 55
        }
      ],
      "source": [
        "spark_df.rdd.getNumPartitions()"
      ]
    },
    {
      "cell_type": "code",
      "execution_count": null,
      "metadata": {
        "colab": {
          "base_uri": "https://localhost:8080/"
        },
        "id": "fRhkqYXCn8gw",
        "outputId": "23708534-d994-444c-d896-cf737f572780"
      },
      "outputs": [
        {
          "output_type": "stream",
          "name": "stdout",
          "text": [
            "root\n",
            " |-- country id: double (nullable = true)\n",
            " |-- country name: string (nullable = true)\n",
            " |-- locality id: integer (nullable = true)\n",
            " |-- locality name: string (nullable = true)\n",
            " |-- market id: integer (nullable = true)\n",
            " |-- market name5: string (nullable = true)\n",
            " |-- commodity purchase id: integer (nullable = true)\n",
            " |-- commodity purchased: string (nullable = true)\n",
            " |-- currency id: double (nullable = true)\n",
            " |-- name of currency: string (nullable = true)\n",
            " |-- market type id: integer (nullable = true)\n",
            " |-- market name11: string (nullable = true)\n",
            " |-- measurement id: integer (nullable = true)\n",
            " |-- unit of goods measurement: string (nullable = true)\n",
            " |-- month recorded: integer (nullable = true)\n",
            " |-- year recorded: integer (nullable = true)\n",
            " |-- price paid: double (nullable = true)\n",
            " |-- mp_commoditysource: string (nullable = true)\n",
            " |-- formatted_date: date (nullable = true)\n",
            " |-- price_USD: float (nullable = true)\n",
            "\n"
          ]
        }
      ],
      "source": [
        "spark_df.printSchema()"
      ]
    },
    {
      "cell_type": "code",
      "source": [
        "spark_df.write.csv('currency_converted.csv')"
      ],
      "metadata": {
        "id": "PlDz885uwsU_"
      },
      "execution_count": null,
      "outputs": []
    },
    {
      "cell_type": "code",
      "execution_count": null,
      "metadata": {
        "id": "eerlZ2zIo2d-"
      },
      "outputs": [],
      "source": [
        "# Convert to pandas df before converting to csv to get everything on the same file (since there are 2 partitions)\n",
        "import pandas as pd\n",
        "\n",
        "spark.conf.set(\"spark.sql.execution.arrow.pyspark.enabled\", \"true\")\n",
        "spark.conf.set (\"spark.sql.execution.arrow.pyspark.fallback.enabled\", \"true\")\n",
        "\n",
        "pandas_df = spark_df.toPandas()\n",
        "pandas_df.to_csv('foodprices_converted.csv')"
      ]
    }
  ],
  "metadata": {
    "colab": {
      "collapsed_sections": [],
      "name": "Group6_hadoopCurrencyConversion.ipynb",
      "provenance": [],
      "authorship_tag": "ABX9TyNPRwNXgFnxSMK4Sa+el/Ul",
      "include_colab_link": true
    },
    "kernelspec": {
      "display_name": "Python 3",
      "name": "python3"
    },
    "language_info": {
      "name": "python"
    }
  },
  "nbformat": 4,
  "nbformat_minor": 0
}