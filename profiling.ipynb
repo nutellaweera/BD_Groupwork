{
 "cells": [
  {
   "cell_type": "code",
   "execution_count": 1,
   "metadata": {},
   "outputs": [
    {
     "name": "stderr",
     "output_type": "stream",
     "text": [
      "/Users/sunellauni/opt/anaconda3/lib/python3.8/site-packages/IPython/core/interactiveshell.py:3165: DtypeWarning: Columns (3) have mixed types.Specify dtype option on import or set low_memory=False.\n",
      "  has_raised = await self.run_ast_nodes(code_ast.body, cell_name,\n"
     ]
    }
   ],
   "source": [
    "import pandas as pd\n",
    "from pandas_profiling import ProfileReport\n",
    "\n",
    "df = pd.read_csv('wfpvam_foodprices.csv')\n",
    "cleaned = df.drop(columns=['country id', 'locality id', 'market id', 'commodity purchase id', 'currency id', 'market type id', 'measurement id', 'mp_commoditysource'])\n",
    "profile = ProfileReport(cleaned, title=\"Report\")"
   ]
  },
  {
   "cell_type": "code",
   "execution_count": 2,
   "metadata": {},
   "outputs": [
    {
     "name": "stderr",
     "output_type": "stream",
     "text": [
      "Summarize dataset:  62%|██████▏   | 13/21 [00:14<00:04,  1.63it/s, Calculate kendall correlation]             /Users/sunellauni/opt/anaconda3/lib/python3.8/site-packages/scipy/stats/stats.py:4594: RuntimeWarning: overflow encountered in long_scalars\n",
      "  (2 * xtie * ytie) / m + x0 * y0 / (9 * m * (size - 2)))\n",
      "Summarize dataset: 100%|██████████| 33/33 [00:34<00:00,  1.04s/it, Completed]                             \n",
      "Generate report structure: 100%|██████████| 1/1 [00:01<00:00,  1.60s/it]\n",
      "Render HTML: 100%|██████████| 1/1 [00:00<00:00,  2.01it/s]\n",
      "Export report to file: 100%|██████████| 1/1 [00:00<00:00, 378.75it/s]\n"
     ]
    }
   ],
   "source": [
    "profile.to_file(\"EDA.html\")"
   ]
  }
 ],
 "metadata": {
  "interpreter": {
   "hash": "ad4efc98168ab38b08e64aa2fc02055880fa9a8646a17501f53b605319231c71"
  },
  "kernelspec": {
   "display_name": "Python 3.8.8 ('base')",
   "language": "python",
   "name": "python3"
  },
  "language_info": {
   "codemirror_mode": {
    "name": "ipython",
    "version": 3
   },
   "file_extension": ".py",
   "mimetype": "text/x-python",
   "name": "python",
   "nbconvert_exporter": "python",
   "pygments_lexer": "ipython3",
   "version": "3.8.8"
  },
  "orig_nbformat": 4
 },
 "nbformat": 4,
 "nbformat_minor": 2
}
